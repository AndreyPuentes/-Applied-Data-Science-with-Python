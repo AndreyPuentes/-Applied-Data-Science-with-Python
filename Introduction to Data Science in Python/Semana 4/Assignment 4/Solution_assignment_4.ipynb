{
 "cells": [
  {
   "cell_type": "markdown",
   "metadata": {},
   "source": [
    "Assignment 4\n",
    "Description\n",
    "In this assignment you must read in a file of metropolitan regions and associated sports teams from assets/wikipedia_data.html and answer some questions about each metropolitan region. Each of these regions may have one or more teams from the \"Big 4\": NFL (football, in assets/nfl.csv), MLB (baseball, in assets/mlb.csv), NBA (basketball, in assets/nba.csv or NHL (hockey, in assets/nhl.csv). Please keep in mind that all questions are from the perspective of the metropolitan region, and that this file is the \"source of authority\" for the location of a given sports team. Thus teams which are commonly known by a different area (e.g. \"Oakland Raiders\") need to be mapped into the metropolitan region given (e.g. San Francisco Bay Area). This will require some human data understanding outside of the data you've been given (e.g. you will have to hand-code some names, and might need to google to find out where teams are)!\n",
    "\n",
    "For each sport I would like you to answer the question: what is the win/loss ratio's correlation with the population of the city it is in? Win/Loss ratio refers to the number of wins over the number of wins plus the number of losses. Remember that to calculate the correlation with pearsonr, so you are going to send in two ordered lists of values, the populations from the wikipedia_data.html file and the win/loss ratio for a given sport in the same order. Average the win/loss ratios for those cities which have multiple teams of a single sport. Each sport is worth an equal amount in this assignment (20%*4=80%) of the grade for this assignment. You should only use data from year 2018 for your analysis -- this is important!\n",
    "\n",
    "Notes\n",
    "Do not include data about the MLS or CFL in any of the work you are doing, we're only interested in the Big 4 in this assignment.\n",
    "I highly suggest that you first tackle the four correlation questions in order, as they are all similar and worth the majority of grades for this assignment. This is by design!\n",
    "It's fair game to talk with peers about high level strategy as well as the relationship between metropolitan areas and sports teams. However, do not post code solving aspects of the assignment (including such as dictionaries mapping areas to teams, or regexes which will clean up names).\n",
    "There may be more teams than the assert statements test, remember to collapse multiple teams in one city into a single value!"
   ]
  },
  {
   "cell_type": "markdown",
   "metadata": {},
   "source": [
    "Question 1\n",
    "For this question, calculate the win/loss ratio's correlation with the population of the city it is in for the NHL using 2018 data."
   ]
  },
  {
   "cell_type": "code",
   "execution_count": 1,
   "metadata": {},
   "outputs": [
    {
     "name": "stderr",
     "output_type": "stream",
     "text": [
      "<ipython-input-1-0dd8c28bb22f>:20: FutureWarning: Possible nested set at position 1\n",
      "  cities['NHL'] = cities['NHL'].apply(lambda x: (re.split(\"[[]\",x)[0])) #CLEANING\n"
     ]
    },
    {
     "data": {
      "text/plain": [
       "28"
      ]
     },
     "execution_count": 1,
     "metadata": {},
     "output_type": "execute_result"
    }
   ],
   "source": [
    "import pandas as pd\n",
    "import numpy as np\n",
    "import scipy.stats as stats\n",
    "import re\n",
    "\n",
    "def get_area(team):\n",
    "    for each in list(nhl_cities.index.values):\n",
    "        if team in each:\n",
    "            return nhl_cities.loc[each, 'Metropolitan area']\n",
    "\n",
    "\n",
    "nhl_df = pd.read_csv(\"nhl.csv\")\n",
    "cities = pd.read_html(\"wikipedia_data.html\")[1] #REVISAR EL PORQUÉ DEL [1]\n",
    "cities = cities.iloc[:-1, [0, 3, 5, 6, 7, 8]]\n",
    "nhl_df = nhl_df[nhl_df['year'] == 2018].drop([0, 9, 18, 26], axis=0) # get only 2018 stats\n",
    "population = cities[['Metropolitan area', 'Population (2016 est.)[8]']]\n",
    "population = population.set_index('Metropolitan area')\n",
    "population\n",
    "# cities['NHL'] = cities['NHL'].apply(lambda x: clear_data(x))\n",
    "cities['NHL'] = cities['NHL'].apply(lambda x: (re.split(\"[[]\",x)[0])) #CLEANING\n",
    "nhl_cities = cities[['Metropolitan area', 'NHL']].set_index('NHL')\n",
    "nhl_cities = nhl_cities.drop(['—', ''], axis=0)\n",
    "nhl_cities  #len 28\n",
    "\n",
    "# nhl_df['team'] = nhl_df['team'].apply(lambda x: x[:-1].strip() if x.endswith(\"*\") else x.strip())\n",
    "# nhl_df['team']\n",
    "\n",
    "nhl_df['team'] = nhl_df['team'].apply(lambda x: (re.split(\"[*]\",x)[0]))#CLEANING\n",
    "nhl_df['team']\n",
    "nhl_df['area'] = nhl_df['team'].apply(lambda x: x.split(\" \")[-1]) \n",
    "nhl_df['area']\n",
    "\n",
    "nhl_df['area'] = nhl_df['area'].apply(lambda x: get_area(x)) #RELACION DE EQUIPOS CON ÁREAS METROPOLITANAS\n",
    "nhl_df\n",
    "\n",
    "\n",
    "out = []\n",
    "for group, frame in nhl_df.groupby('area'):\n",
    "    total_wins = np.sum(pd.to_numeric(frame['W']))\n",
    "    total_losses = np.sum(pd.to_numeric(frame['L']))\n",
    "    total_matches = total_wins + total_losses\n",
    "    ratio = (total_wins / total_matches)\n",
    "    out_dict = {\n",
    "        'Area': group,\n",
    "        'W': total_wins,\n",
    "        'L': total_losses,\n",
    "        'TM': total_matches,\n",
    "        'Ratio': ratio\n",
    "    }\n",
    "    out.append(out_dict)\n",
    "\n",
    "new_df = pd.DataFrame(out)\n",
    "new_df = new_df.set_index('Area')\n",
    "new_df\n",
    "out_df = pd.merge(new_df, population, how=\"inner\", left_index=True, right_index=True)\n",
    "out_df['Population (2016 est.)[8]'] = pd.to_numeric(out_df['Population (2016 est.)[8]'])\n",
    "out_df\n",
    "population_by_region = []  # pass in metropolitan area population from cities\n",
    "win_loss_by_region = []  # pass in win/loss ratio from nhl_df in the same order as cities[\"Metropolitan area\"]\n",
    "population_by_region = out_df['Population (2016 est.)[8]']\n",
    "win_loss_by_region = out_df['Ratio']\n",
    "corr, pval = stats.pearsonr(population_by_region, win_loss_by_region)\n",
    "corr\n",
    "len(population_by_region)\n",
    "# win_loss_by_region"
   ]
  },
  {
   "cell_type": "markdown",
   "metadata": {},
   "source": [
    "Question 2\n",
    "For this question, calculate the win/loss ratio's correlation with the population of the city it is in for the NBA using 2018 data."
   ]
  },
  {
   "cell_type": "code",
   "execution_count": 189,
   "metadata": {},
   "outputs": [
    {
     "data": {
      "text/plain": [
       "28"
      ]
     },
     "execution_count": 189,
     "metadata": {},
     "output_type": "execute_result"
    }
   ],
   "source": [
    "import pandas as pd\n",
    "import numpy as np\n",
    "import scipy.stats as stats\n",
    "import re\n",
    "# def clear_data(string1):\n",
    "#     if re.search(r'\\[[a-z]* [0-9]+\\]', string1) is None:\n",
    "#         return string1\n",
    "#     else:\n",
    "#         return string1.replace(re.search(r'\\[[a-z]* [0-9]+\\]', string1).group(), '')\n",
    "\n",
    "def get_area(team):\n",
    "    for each in list(nba_cities.index.values):\n",
    "        if team in each:\n",
    "            return nba_cities.loc[each, 'Metropolitan area']\n",
    "\n",
    "\n",
    "# def get_nhl_data():\n",
    "#     return out_df\n",
    "\n",
    "\n",
    "nba_df = pd.read_csv(\"nba.csv\")\n",
    "cities = pd.read_html(\"wikipedia_data.html\")[1] #REVISAR EL PORQUÉ DEL [1]\n",
    "cities = cities.iloc[:-1, [0, 3, 5, 6, 7, 8]]\n",
    "nba_df = nba_df[nba_df['year'] == 2018]  # get only 2018 stats\n",
    "population = cities[['Metropolitan area', 'Population (2016 est.)[8]']]\n",
    "population = population.set_index('Metropolitan area')\n",
    "population\n",
    "cities['NBA'] = cities['NBA'].apply(lambda x: (re.split(\"[[]\",x)[0])) #CLEANING\n",
    "nba_cities = cities[['Metropolitan area', 'NBA']].set_index('NBA')\n",
    "nba_cities = nba_cities.drop(['—', ''], axis=0)\n",
    "nba_cities\n",
    "\n",
    "nba_df['team'] = nba_df['team'].apply(lambda x: (re.split((\"([\\s][()])|([*])\"),x)[0]))#CLEANING\n",
    "nba_df['team']\n",
    "nba_df['area'] = nba_df['team'].apply(lambda x: x.split(\" \")[-1]) \n",
    "nba_df['area']\n",
    "\n",
    "nba_df['area'] = nba_df['area'].apply(lambda x: get_area(x)) #RELACION DE EQUIPOS CON ÁREAS METROPOLITANAS\n",
    "nba_df\n",
    "\n",
    "out = []\n",
    "for group, frame in nba_df.groupby('area'):\n",
    "    total_wins = np.sum(pd.to_numeric(frame['W']))\n",
    "    total_losses = np.sum(pd.to_numeric(frame['L']))\n",
    "    total_matches = total_wins + total_losses\n",
    "    ratio = (total_wins / total_matches)\n",
    "    out_dict = {\n",
    "        'Area': group,\n",
    "        'W': total_wins,\n",
    "        'L': total_losses,\n",
    "        'TM': total_matches,\n",
    "        'Ratio': ratio\n",
    "    }\n",
    "    out.append(out_dict)\n",
    "\n",
    "new_df = pd.DataFrame(out)\n",
    "new_df = new_df.set_index('Area')\n",
    "new_df\n",
    "out_df = pd.merge(new_df, population, how=\"inner\", left_index=True, right_index=True)\n",
    "out_df['Population (2016 est.)[8]'] = pd.to_numeric(out_df['Population (2016 est.)[8]'])\n",
    "out_df\n",
    "population_by_region = []  # pass in metropolitan area population from cities\n",
    "win_loss_by_region = []  # pass in win/loss ratio from nhl_df in the same order as cities[\"Metropolitan area\"]\n",
    "population_by_region = out_df['Population (2016 est.)[8]']\n",
    "win_loss_by_region = out_df['Ratio']\n",
    "corr, pval = stats.pearsonr(population_by_region, win_loss_by_region)\n",
    "corr\n",
    "# len(population_by_region)\n",
    "# # win_loss_by_region  \n"
   ]
  },
  {
   "cell_type": "markdown",
   "metadata": {},
   "source": [
    "Question 3\n",
    "For this question, calculate the win/loss ratio's correlation with the population of the city it is in for the MLB using 2018 data."
   ]
  },
  {
   "cell_type": "code",
   "execution_count": 187,
   "metadata": {},
   "outputs": [
    {
     "data": {
      "text/plain": [
       "0.1505230448710485"
      ]
     },
     "execution_count": 187,
     "metadata": {},
     "output_type": "execute_result"
    }
   ],
   "source": [
    "import pandas as pd\n",
    "import numpy as np\n",
    "import scipy.stats as stats\n",
    "import re\n",
    "\n",
    "\n",
    "def get_area(team):\n",
    "    for each in list(mlb_cities.index.values):\n",
    "        if team in each:\n",
    "            return mlb_cities.loc[each, 'Metropolitan area']\n",
    "\n",
    "\n",
    "mlb_df = pd.read_csv(\"mlb.csv\")\n",
    "cities = pd.read_html(\"wikipedia_data.html\")[1] #REVISAR EL PORQUÉ DEL [1]\n",
    "cities = cities.iloc[:-1, [0, 3, 5, 6, 7, 8]]\n",
    "mlb_df = mlb_df[mlb_df['year'] == 2018]  # get only 2018 stats\n",
    "population = cities[['Metropolitan area', 'Population (2016 est.)[8]']]\n",
    "population = population.set_index('Metropolitan area')\n",
    "population\n",
    "\n",
    "cities['MLB'] = cities['MLB'].apply(lambda x: (re.split(\"[[]\",x)[0])) #CLEANING\n",
    "mlb_cities = cities[['Metropolitan area', 'MLB']].set_index('MLB')\n",
    "mlb_cities = mlb_cities.drop(['—', ''], axis=0)\n",
    "len(mlb_cities)\n",
    "\n",
    "# mlb_df['team'] = mlb_df['team'].apply(lambda x: (re.split((\"([\\s][()])|([*])\"),x)[0]))#CLEANING\n",
    "mlb_df['team']\n",
    "mlb_df['area'] = mlb_df['team'].apply(lambda x: x.split(\" \")[-1]) \n",
    "mlb_df\n",
    "\n",
    "mlb_df['area'] = mlb_df['area'].apply(lambda x: get_area(x)) #RELACION DE EQUIPOS CON ÁREAS METROPOLITANAS\n",
    "mlb_df.at[0, 'area'] = 'Boston'\n",
    "mlb_df\n",
    "\n",
    "out = []\n",
    "for group, frame in mlb_df.groupby('area'):\n",
    "    total_wins = np.sum(pd.to_numeric(frame['W']))\n",
    "    total_losses = np.sum(pd.to_numeric(frame['L']))\n",
    "    total_matches = total_wins + total_losses\n",
    "    ratio = (total_wins / total_matches)\n",
    "    out_dict = {\n",
    "        'Area': group,\n",
    "        'W': total_wins,\n",
    "        'L': total_losses,\n",
    "        'TM': total_matches,\n",
    "        'Ratio': ratio\n",
    "    }\n",
    "    out.append(out_dict)\n",
    "\n",
    "new_df = pd.DataFrame(out)\n",
    "new_df = new_df.set_index('Area')\n",
    "new_df\n",
    "out_df = pd.merge(new_df, population, how=\"inner\", left_index=True, right_index=True)\n",
    "out_df['Population (2016 est.)[8]'] = pd.to_numeric(out_df['Population (2016 est.)[8]'])\n",
    "out_df\n",
    "population_by_region = []  # pass in metropolitan area population from cities\n",
    "win_loss_by_region = []  # pass in win/loss ratio from nhl_df in the same order as cities[\"Metropolitan area\"]\n",
    "population_by_region = out_df['Population (2016 est.)[8]']\n",
    "win_loss_by_region = out_df['Ratio']\n",
    "corr, pval = stats.pearsonr(population_by_region, win_loss_by_region)\n",
    "corr\n",
    "# len(population_by_region)"
   ]
  },
  {
   "cell_type": "markdown",
   "metadata": {},
   "source": [
    "Question 4\n",
    "For this question, calculate the win/loss ratio's correlation with the population of the city it is in for the NFL using 2018 data."
   ]
  },
  {
   "cell_type": "code",
   "execution_count": 197,
   "metadata": {},
   "outputs": [
    {
     "data": {
      "text/plain": [
       "0.004922112149349409"
      ]
     },
     "execution_count": 197,
     "metadata": {},
     "output_type": "execute_result"
    }
   ],
   "source": [
    "import pandas as pd\n",
    "import numpy as np\n",
    "import scipy.stats as stats\n",
    "import re\n",
    "\n",
    "\n",
    "def get_area(team):\n",
    "    for each in list(nfl_cities.index.values):\n",
    "        if team in each:\n",
    "            return nfl_cities.loc[each, 'Metropolitan area']\n",
    "\n",
    "\n",
    "nfl_df = pd.read_csv(\"nfl.csv\")\n",
    "cities = pd.read_html(\"wikipedia_data.html\")[1] #REVISAR EL PORQUÉ DEL [1]\n",
    "cities = cities.iloc[:-1, [0, 3, 5, 6, 7, 8]]\n",
    "nfl_df = nfl_df[nfl_df['year'] == 2018].drop([0, 5, 10, 15, 20, 25, 30, 35], axis=0)  # get only 2018 stats\n",
    "population = cities[['Metropolitan area', 'Population (2016 est.)[8]']]\n",
    "population = population.set_index('Metropolitan area')\n",
    "population\n",
    "\n",
    "cities['NFL'] = cities['NFL'].apply(lambda x: (re.split(\"[[]\",x)[0])) #CLEANING\n",
    "nfl_cities = cities[['Metropolitan area', 'NFL']].set_index('NFL')\n",
    "nfl_cities = nfl_cities.drop(['—', ''], axis=0)\n",
    "len(nfl_cities)\n",
    "nfl_df\n",
    "\n",
    "nfl_df['team'] = nfl_df['team'].apply(lambda x: (re.split((\"([+])|([*])\"),x)[0]))#CLEANING\n",
    "nfl_df['team']\n",
    "nfl_df['area'] = nfl_df['team'].apply(lambda x: x.split(\" \")[-1]) \n",
    "nfl_df\n",
    "\n",
    "nfl_df['area'] = nfl_df['area'].apply(lambda x: get_area(x)) #RELACION DE EQUIPOS CON ÁREAS METROPOLITANAS\n",
    "nfl_df\n",
    "\n",
    "out = []\n",
    "for group, frame in nfl_df.groupby('area'):\n",
    "    total_wins = np.sum(pd.to_numeric(frame['W']))\n",
    "    total_losses = np.sum(pd.to_numeric(frame['L']))\n",
    "    total_matches = total_wins + total_losses\n",
    "    ratio = (total_wins / total_matches)\n",
    "    out_dict = {\n",
    "        'Area': group,\n",
    "        'W': total_wins,\n",
    "        'L': total_losses,\n",
    "        'TM': total_matches,\n",
    "        'Ratio': ratio\n",
    "    }\n",
    "    out.append(out_dict)\n",
    "\n",
    "new_df = pd.DataFrame(out)\n",
    "new_df = new_df.set_index('Area')\n",
    "new_df\n",
    "out_df = pd.merge(new_df, population, how=\"inner\", left_index=True, right_index=True)\n",
    "out_df['Population (2016 est.)[8]'] = pd.to_numeric(out_df['Population (2016 est.)[8]'])\n",
    "out_df\n",
    "population_by_region = []  # pass in metropolitan area population from cities\n",
    "win_loss_by_region = []  # pass in win/loss ratio from nhl_df in the same order as cities[\"Metropolitan area\"]\n",
    "population_by_region = out_df['Population (2016 est.)[8]']\n",
    "win_loss_by_region = out_df['Ratio']\n",
    "corr, pval = stats.pearsonr(population_by_region, win_loss_by_region)\n",
    "corr\n",
    "# len(population_by_region)"
   ]
  }
 ],
 "metadata": {
  "interpreter": {
   "hash": "2c3187ed738de1786d314e6a543ff822a7395581778a2d07ac44faf833b8e454"
  },
  "kernelspec": {
   "display_name": "Python 3.9.5 64-bit",
   "language": "python",
   "name": "python3"
  },
  "language_info": {
   "codemirror_mode": {
    "name": "ipython",
    "version": 3
   },
   "file_extension": ".py",
   "mimetype": "text/x-python",
   "name": "python",
   "nbconvert_exporter": "python",
   "pygments_lexer": "ipython3",
   "version": "3.9.5"
  },
  "orig_nbformat": 4
 },
 "nbformat": 4,
 "nbformat_minor": 2
}
